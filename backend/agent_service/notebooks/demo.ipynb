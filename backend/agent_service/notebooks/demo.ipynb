{
 "cells": [
  {
   "cell_type": "markdown",
   "metadata": {},
   "source": [
    "## Getting Data"
   ]
  },
  {
   "cell_type": "code",
   "execution_count": 29,
   "metadata": {},
   "outputs": [],
   "source": [
    "import asyncio\n",
    "import json\n",
    "from typing import List, Dict\n",
    "from httpx import AsyncClient, Response\n",
    "from parsel import Selector\n",
    "import random\n",
    "from bs4 import BeautifulSoup\n",
    "import json \n",
    "import re\n",
    "\n",
    "USER_AGENTS = [\n",
    "    \"Mozilla/5.0 (Windows NT 10.0; Win64; x64) AppleWebKit/537.36 (KHTML, like Gecko) Chrome/120.0.0.0 Safari/537.36\",\n",
    "    \"Mozilla/5.0 (Macintosh; Intel Mac OS X 10_15_7) AppleWebKit/537.36 (KHTML, like Gecko) Chrome/119.0.0.0 Safari/537.36\",\n",
    "    \"Mozilla/5.0 (X11; Linux x86_64) AppleWebKit/537.36 (KHTML, like Gecko) Chrome/118.0.0.0 Safari/537.36\",\n",
    "]\n",
    "\n",
    "# Create HTTP client with dynamic headers\n",
    "client = AsyncClient(\n",
    "    headers={\n",
    "        \"User-Agent\": random.choice(USER_AGENTS),\n",
    "        \"Accept\": \"text/html,application/xhtml+xml,application/xml;q=0.9,image/webp,image/apng,*/*;q=0.8\",\n",
    "        \"Accept-Encoding\": \"gzip, deflate, br\",\n",
    "        \"Accept-Language\": \"en-US,en;q=0.9,lt;q=0.8,et;q=0.7,de;q=0.6\",\n",
    "    },\n",
    "    follow_redirects=True,\n",
    "    http2=True,\n",
    "    timeout=60,  # Keep timeout reasonable (60s)\n",
    ")\n",
    "\n",
    "async def scrape_property_for_sale(urls: List[str]) -> List[Dict]:\n",
    "    \"\"\"Scrape property details from Redfin pages with retry handling.\"\"\"\n",
    "    properties = []\n",
    "    for url in urls:\n",
    "        response = await fetch_with_retries(url)\n",
    "        if response and response.status_code == 200:\n",
    "            print(f\"Successfully fetched: {url}\")\n",
    "            properties.append(response)\n",
    "        else:\n",
    "            print(f\"Skipping {url} due to failed fetch.\")\n",
    "        await asyncio.sleep(random.uniform(1, 5))  # Add random delay between requests\n",
    "    return properties\n",
    "    \n",
    "async def fetch_with_retries(url: str, retries: int = 3, delay: int = 2) -> Response:\n",
    "    \"\"\"Fetch property page with retry logic to handle 202 responses.\"\"\"\n",
    "    attempt = 0\n",
    "    while attempt < retries:\n",
    "        try:\n",
    "            response = await client.get(url)\n",
    "            if response.status_code == 200:\n",
    "                return response  # Success\n",
    "            elif response.status_code == 202:\n",
    "                print(f\"Received 202 for {url}, retrying in {delay}s...\")\n",
    "            else:\n",
    "                print(f\"Unexpected status {response.status_code} for {url}, retrying in {delay}s...\")\n",
    "        except HTTPStatusError as e:\n",
    "            print(f\"HTTP error {e.response.status_code}: {e.response.text}\")\n",
    "        except Exception as e:\n",
    "            print(f\"Error fetching {url}: {e}\")\n",
    "\n",
    "        await asyncio.sleep(delay)\n",
    "        delay *= 2  # Exponential backoff\n",
    "        attempt += 1\n",
    "\n",
    "    print(f\"Max retries reached for {url}, skipping.\")\n",
    "    return None"
   ]
  },
  {
   "cell_type": "code",
   "execution_count": 30,
   "metadata": {},
   "outputs": [],
   "source": [
    "def extract_redfin_property(html_content):\n",
    "    \"\"\"Extracts property details from Redfin HTML response, including structured and unstructured data.\"\"\"\n",
    "    soup = BeautifulSoup(html_content, \"html.parser\")\n",
    "\n",
    "    # Extract key meta fields\n",
    "    property_data = {\n",
    "        \"address\": soup.find(\"meta\", {\"name\": \"twitter:text:street_address\"})[\"content\"] if soup.find(\"meta\", {\"name\": \"twitter:text:street_address\"}) else None,\n",
    "        \"city\": soup.find(\"meta\", {\"name\": \"twitter:text:city\"})[\"content\"] if soup.find(\"meta\", {\"name\": \"twitter:text:city\"}) else None,\n",
    "        \"state\": soup.find(\"meta\", {\"name\": \"twitter:text:state_code\"})[\"content\"] if soup.find(\"meta\", {\"name\": \"twitter:text:state_code\"}) else None,\n",
    "        \"zip_code\": soup.find(\"meta\", {\"name\": \"twitter:text:zip\"})[\"content\"] if soup.find(\"meta\", {\"name\": \"twitter:text:zip\"}) else None,\n",
    "        \"price\": soup.find(\"meta\", {\"name\": \"twitter:text:price\"})[\"content\"] if soup.find(\"meta\", {\"name\": \"twitter:text:price\"}) else None,\n",
    "        \"beds\": soup.find(\"meta\", {\"name\": \"twitter:text:beds\"})[\"content\"] if soup.find(\"meta\", {\"name\": \"twitter:text:beds\"}) else None,\n",
    "        \"baths\": soup.find(\"meta\", {\"name\": \"twitter:text:baths\"})[\"content\"] if soup.find(\"meta\", {\"name\": \"twitter:text:baths\"}) else None,\n",
    "        \"sqft\": soup.find(\"meta\", {\"name\": \"twitter:text:sqft\"})[\"content\"] if soup.find(\"meta\", {\"name\": \"twitter:text:sqft\"}) else None,\n",
    "        \"property_url\": soup.find(\"meta\", {\"property\": \"og:url\"})[\"content\"] if soup.find(\"meta\", {\"property\": \"og:url\"}) else None,\n",
    "        \"images\": [meta[\"content\"] for meta in soup.find_all(\"meta\") if \"twitter:image:photo\" in meta.get(\"name\", \"\")]\n",
    "    }\n",
    "\n",
    "    # Extract description and additional house details\n",
    "    house_info_div = soup.find(\"div\", {\"id\": \"house-info\"})\n",
    "    if house_info_div:\n",
    "        house_info_text = house_info_div.get_text(strip=True)\n",
    "        property_data.update(process_house_info(house_info_text))  # Merge structured text details\n",
    "\n",
    "    # Extract structured property attributes (e.g., {\"header\":\"Property Type\",\"content\":\"Single-family\"})\n",
    "    structured_data = []\n",
    "    for script in soup.find_all(\"script\"):\n",
    "        if \"header\" in script.text and \"content\" in script.text:  # Look for structured attributes\n",
    "            matches = re.findall(r'{\"header\":\"(.*?)\",\"content\":\"(.*?)\"}', script.text)\n",
    "            structured_data.extend([{\"header\": m[0], \"content\": m[1]} for m in matches])\n",
    "\n",
    "    property_data[\"structured_attributes\"] = structured_data\n",
    "\n",
    "    # Extract JSON-encoded data in <script> tags (e.g., hidden price history, tax data)\n",
    "    json_data = None\n",
    "    for script in soup.find_all(\"script\"):\n",
    "        if \"window.__INITIAL_STATE__\" in script.text:  # Look for Redfin's internal JSON variable\n",
    "            match = re.search(r\"window\\.__INITIAL_STATE__\\s*=\\s*({.*?});\", script.text, re.DOTALL)\n",
    "            if match:\n",
    "                json_data = match.group(1)\n",
    "                break\n",
    "\n",
    "    if json_data:\n",
    "        try:\n",
    "            property_data[\"json_data\"] = json.loads(json_data)  # Parse JSON if found\n",
    "        except json.JSONDecodeError:\n",
    "            property_data[\"json_data\"] = \"Error parsing JSON\"\n",
    "\n",
    "    return property_data\n",
    "    \n",
    "def process_house_info(text):\n",
    "    \"\"\"Processes the 'house-info' text and extracts key details with delimiters.\"\"\"\n",
    "    house_info = {}\n",
    "\n",
    "    # Split description from property details using \"Show more\" as a separator (if present)\n",
    "    if \"Show more\" in text:\n",
    "        description, details = text.split(\"Show more\", 1)\n",
    "        house_info[\"description\"] = description.strip()\n",
    "    else:\n",
    "        details = text\n",
    "        house_info[\"description\"] = None\n",
    "\n",
    "    # Extract key structured fields safely\n",
    "    house_info[\"property_type\"] = re.search(r\"(Single-family|Townhouse|Condo)\", details)\n",
    "    house_info[\"built_year\"] = re.search(r\"Built in (\\d{4})\", details)\n",
    "    house_info[\"lot_size\"] = re.search(r\"(?<!Built in )(\\d{1,3}(?:,\\d{3})*) sq ft lot\", details)\n",
    "    house_info[\"price_per_sqft\"] = re.search(r\"\\$([\\d,]+) Redfin Estimate per sq ft\", details)\n",
    "    house_info[\"garage_spaces\"] = re.search(r\"(\\d+) garage spaces\", details)\n",
    "    house_info[\"has_ac\"] = \"Yes\" if \"Has A/C\" in details else \"No\"\n",
    "\n",
    "    # Extract agent details\n",
    "    listed_by = re.search(r\"Listed by (.+?) •DRE\", details)\n",
    "    bought_by = re.search(r\"Bought with (.+?) •DRE\", details)\n",
    "\n",
    "    house_info[\"listed_by\"] = listed_by.group(1) if listed_by else None\n",
    "    house_info[\"bought_by\"] = bought_by.group(1) if bought_by else None\n",
    "\n",
    "    # Extract last updated timestamp\n",
    "    last_checked = re.search(r\"Redfin checked: (.+?)•Source\", details)\n",
    "    house_info[\"last_checked\"] = last_checked.group(1).strip() if last_checked else None\n",
    "\n",
    "    # Convert extracted matches into string values (handling None cases)\n",
    "    for key, match in house_info.items():\n",
    "        if isinstance(match, re.Match):  # Ensure it is a match object\n",
    "            house_info[key] = match.group(1).strip()\n",
    "\n",
    "    return house_info"
   ]
  },
  {
   "cell_type": "code",
   "execution_count": 32,
   "metadata": {},
   "outputs": [
    {
     "name": "stdout",
     "output_type": "stream",
     "text": [
      "Successfully fetched: https://www.redfin.com/CA/Chino-Hills/16134-Firestone-Ln-91709/home/3941468\n"
     ]
    }
   ],
   "source": [
    "tmp = await scrape_property_for_sale([\"https://www.redfin.com/CA/Chino-Hills/16134-Firestone-Ln-91709/home/3941468\"])\n",
    "\n",
    "for item in tmp:\n",
    "    if item.status_code == 200:\n",
    "        processed_info = extract_redfin_property(item)\n",
    "\n",
    "    else:\n",
    "        print(f\"the request fails with {item.status_code}\")"
   ]
  },
  {
   "cell_type": "markdown",
   "metadata": {},
   "source": [
    "## Setting Up Agents"
   ]
  },
  {
   "cell_type": "code",
   "execution_count": 73,
   "metadata": {},
   "outputs": [],
   "source": [
    "from langchain.agents import initialize_agent, AgentType\n",
    "from langchain.chat_models import ChatOpenAI\n",
    "from langchain.tools import Tool\n",
    "from langchain.schema import SystemMessage\n",
    "import openai\n",
    "\n",
    "import tiktoken\n"
   ]
  },
  {
   "cell_type": "code",
   "execution_count": null,
   "metadata": {},
   "outputs": [],
   "source": [
    "# OPENAI_API_KEY = \"\"\n",
    "llm = ChatOpenAI(model_name=\"gpt-3.5-turbo-0125\", openai_api_key=OPENAI_API_KEY)"
   ]
  },
  {
   "cell_type": "code",
   "execution_count": 95,
   "metadata": {},
   "outputs": [],
   "source": [
    "\n",
    "# Text Agent: Generates renovation ideas\n",
    "def generate_renovation_ideas(property_json):\n",
    "    \"\"\"Generates renovation suggestions based on property details.\"\"\"\n",
    "    prompt = f\"\"\"\n",
    "    Given the following property details, suggest the some renovation ideas to increase its value:\n",
    "    {property_json}\n",
    "\n",
    "    - Example rennovation options include add more bedrooms, build ADU, replace carpet\n",
    "    - Suggest cost-effective improvements\n",
    "\n",
    "    Return a structured JSON with ideas, estimated cost, and expected value increase.\n",
    "    \"\"\"\n",
    "    response = llm.invoke(prompt)\n",
    "    return response.content\n",
    "\n",
    "text_agent = Tool(\n",
    "    name=\"Text Agent\",\n",
    "    func=generate_renovation_ideas,\n",
    "    description=\"Generates renovation suggestions based on property details.\"\n",
    ")\n",
    "\n",
    "# Image Agent: Evaluates renovation ideas & adds insights\n",
    "def review_renovations(image_urls, renovation_suggestions):\n",
    "    \"\"\"Evaluates if renovation ideas make sense based on property images.\"\"\"\n",
    "    prompt = f\"\"\"\n",
    "    Review the following renovation suggestions based on these property images:\n",
    "    Renovation Ideas: {renovation_suggestions}\n",
    "    Images: {image_urls}\n",
    "\n",
    "    - Check if the renovations are structurally feasible.\n",
    "    - Identify additional improvements based on the images.\n",
    "    - Flag any unrealistic suggestions.\n",
    "    \n",
    "    Return a refined renovation plan with updated recommendations.\n",
    "    \"\"\"\n",
    "    response = llm.invoke(prompt)\n",
    "    return response.content\n",
    "\n",
    "image_agent = Tool(\n",
    "    name=\"Image Agent\",\n",
    "    func=review_renovations,\n",
    "    description=\"Evaluates renovation ideas based on property images and refines them.\"\n",
    ")\n",
    "\n",
    "# Initialize Multi-Agent System\n",
    "agents = initialize_agent(\n",
    "    tools=[text_agent, image_agent],\n",
    "    llm=llm,\n",
    "    agent=AgentType.ZERO_SHOT_REACT_DESCRIPTION,  # Lets the LLM decide agent actions\n",
    "    verbose=True\n",
    ")\n"
   ]
  },
  {
   "cell_type": "code",
   "execution_count": 97,
   "metadata": {},
   "outputs": [
    {
     "data": {
      "text/plain": [
       "dict_keys(['address', 'city', 'state', 'zip_code', 'price', 'beds', 'baths', 'sqft', 'property_url', 'images', 'description', 'property_type', 'built_year', 'lot_size', 'price_per_sqft', 'garage_spaces', 'has_ac', 'listed_by', 'bought_by', 'last_checked', 'structured_attributes'])"
      ]
     },
     "execution_count": 97,
     "metadata": {},
     "output_type": "execute_result"
    }
   ],
   "source": [
    "processed_info.keys()"
   ]
  },
  {
   "cell_type": "code",
   "execution_count": null,
   "metadata": {},
   "outputs": [
    {
     "name": "stdout",
     "output_type": "stream",
     "text": [
      "🏗️ Renovation Ideas:\n",
      " {\n",
      "    \"renovation_ideas\": [\n",
      "        {\n",
      "            \"idea\": \"Update kitchen and bathrooms\",\n",
      "            \"estimated_cost\": \"$10,000 - $15,000\",\n",
      "            \"expected_value_increase\": \"$20,000 - $30,000\"\n",
      "        },\n",
      "        {\n",
      "            \"idea\": \"Add a deck or patio in the backyard\",\n",
      "            \"estimated_cost\": \"$5,000 - $7,000\",\n",
      "            \"expected_value_increase\": \"$10,000 - $15,000\"\n",
      "        },\n",
      "        {\n",
      "            \"idea\": \"Upgrade landscaping and add curb appeal\",\n",
      "            \"estimated_cost\": \"$3,000 - $5,000\",\n",
      "            \"expected_value_increase\": \"$5,000 - $10,000\"\n",
      "        },\n",
      "        {\n",
      "            \"idea\": \"Install energy-efficient windows and doors\",\n",
      "            \"estimated_cost\": \"$8,000 - $10,000\",\n",
      "            \"expected_value_increase\": \"$15,000 - $20,000\"\n",
      "        }\n",
      "    ]\n",
      "}\n",
      "🖼️ Final Renovation Plan:\n",
      " Based on the images provided, here is a refined renovation plan with updated recommendations:\n",
      "\n",
      "1. Update kitchen and bathrooms:\n",
      "   - The kitchen and bathrooms in the property could benefit from an update. This renovation is structurally feasible and would add significant value to the property. The estimated cost is $10,000 - $15,000, with an expected value increase of $20,000 - $30,000.\n",
      "\n",
      "2. Add a deck or patio in the backyard:\n",
      "   - The backyard space is suitable for adding a deck or patio. This renovation is structurally feasible and would enhance the outdoor living area. The estimated cost is $5,000 - $7,000, with an expected value increase of $10,000 - $15,000.\n",
      "\n",
      "3. Upgrade landscaping and add curb appeal:\n",
      "   - The property could benefit from upgraded landscaping to improve curb appeal. This renovation is structurally feasible and would enhance the overall look of the property. The estimated cost is $3,000 - $5,000, with an expected value increase of $5,000 - $10,000.\n",
      "\n",
      "4. Install energy-efficient windows and doors:\n",
      "   - Upgrading to energy-efficient windows and doors is a practical improvement for the property. This renovation is structurally feasible and would increase energy efficiency. The estimated cost is $8,000 - $10,000, with an expected value increase of $15,000 - $20,000.\n",
      "\n",
      "Additional improvement suggestions based on the images:\n",
      "- Paint the exterior of the house to freshen up the look and improve curb appeal.\n",
      "- Update the flooring inside the house to modernize the living spaces.\n",
      "- Consider adding a fresh coat of paint to the interior walls to brighten up the rooms.\n",
      "\n",
      "Overall, the suggested renovations are feasible and would add value to the property. It is important to prioritize updates that will have the most significant impact on the property's value and appeal.\n"
     ]
    }
   ],
   "source": [
    "renovation_suggestions = text_agent.func(processed_info)\n",
    "print(\"🏗️ Renovation Ideas:\\n\", renovation_suggestions)\n",
    "\n",
    "final_renovation_plan = image_agent.func(processed_info['images'], renovation_suggestions)\n",
    "print(\"🖼️ Final Renovation Plan:\\n\", final_renovation_plan)"
   ]
  },
  {
   "cell_type": "code",
   "execution_count": null,
   "metadata": {},
   "outputs": [
    {
     "data": {
      "text/plain": [
       "'The property is located at 16134 Firestone Ln, Chino Hills, CA 91709. It has 3 beds, 2.5 baths, 1,478 sqft, listed at $770,000. It is a single-family home built in 1989 with a lot size of 893,880 sqft. It has a price per sqft of $601, 2 garage spaces, AC, and various amenities.'"
      ]
     },
     "execution_count": 93,
     "metadata": {},
     "output_type": "execute_result"
    }
   ],
   "source": [
    "def count_tokens(text, model=\"gpt-4\"):\n",
    "    \"\"\"Counts the number of tokens in a text input for the given model.\"\"\"\n",
    "    encoding = tiktoken.encoding_for_model(model)\n",
    "    return len(encoding.encode(text))\n",
    "\n",
    "token_count = count_tokens(process_text_data(processed_info), model=\"gpt-4\")\n"
   ]
  },
  {
   "cell_type": "code",
   "execution_count": null,
   "metadata": {},
   "outputs": [],
   "source": []
  }
 ],
 "metadata": {
  "kernelspec": {
   "display_name": "base",
   "language": "python",
   "name": "python3"
  },
  "language_info": {
   "codemirror_mode": {
    "name": "ipython",
    "version": 3
   },
   "file_extension": ".py",
   "mimetype": "text/x-python",
   "name": "python",
   "nbconvert_exporter": "python",
   "pygments_lexer": "ipython3",
   "version": "3.10.9"
  }
 },
 "nbformat": 4,
 "nbformat_minor": 2
}
